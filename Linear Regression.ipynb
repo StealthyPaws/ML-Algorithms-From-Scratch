{
 "cells": [
  {
   "cell_type": "markdown",
   "metadata": {
    "id": "7FImw33Z74OY"
   },
   "source": [
    "**Linear regression** is a type of supervised machine learning algorithm that computes the linear relationship between the dependent variable and one or more independent features by fitting a linear equation to observed data.\n",
    "\n",
    "When there is only one independent feature, it is known as **Simple Linear Regression**,\n",
    "\n",
    "y=β +β1X\n",
    "\n",
    "\n",
    "*  Y is the dependent variable\n",
    "*  X is the independent variable\n",
    "*  β is the intercept\n",
    "*  β1 is the slope\n",
    "\n",
    "and when there are more than one feature, it is known as **Multiple Linear Regression**.\n",
    "y=β +β1X1+β2X2+………βnXn\n",
    "where:\n",
    "\n",
    "*  Y is the dependent variable\n",
    "* X1, X2, …, Xn are the independent variables\n",
    "* β is the intercept\n",
    "* β1, β2, …, βn are the slopes\n",
    "\n",
    "**The goal of the algorithm is to find the best Fit Line equation that can predict the values based on the independent variables.**"
   ]
  },
  {
   "cell_type": "markdown",
   "metadata": {
    "id": "5mdEljVb94ci"
   },
   "source": [
    "# **Load The Data**"
   ]
  },
  {
   "cell_type": "code",
   "execution_count": 53,
   "metadata": {
    "id": "Lga-BgMb9FAt"
   },
   "outputs": [
    {
     "data": {
      "text/html": [
       "<div>\n",
       "<style scoped>\n",
       "    .dataframe tbody tr th:only-of-type {\n",
       "        vertical-align: middle;\n",
       "    }\n",
       "\n",
       "    .dataframe tbody tr th {\n",
       "        vertical-align: top;\n",
       "    }\n",
       "\n",
       "    .dataframe thead th {\n",
       "        text-align: right;\n",
       "    }\n",
       "</style>\n",
       "<table border=\"1\" class=\"dataframe\">\n",
       "  <thead>\n",
       "    <tr style=\"text-align: right;\">\n",
       "      <th></th>\n",
       "      <th>x</th>\n",
       "      <th>y</th>\n",
       "    </tr>\n",
       "  </thead>\n",
       "  <tbody>\n",
       "    <tr>\n",
       "      <th>0</th>\n",
       "      <td>24.0</td>\n",
       "      <td>21.549452</td>\n",
       "    </tr>\n",
       "    <tr>\n",
       "      <th>1</th>\n",
       "      <td>50.0</td>\n",
       "      <td>47.464463</td>\n",
       "    </tr>\n",
       "    <tr>\n",
       "      <th>2</th>\n",
       "      <td>15.0</td>\n",
       "      <td>17.218656</td>\n",
       "    </tr>\n",
       "    <tr>\n",
       "      <th>3</th>\n",
       "      <td>38.0</td>\n",
       "      <td>36.586398</td>\n",
       "    </tr>\n",
       "    <tr>\n",
       "      <th>4</th>\n",
       "      <td>87.0</td>\n",
       "      <td>87.288984</td>\n",
       "    </tr>\n",
       "    <tr>\n",
       "      <th>...</th>\n",
       "      <td>...</td>\n",
       "      <td>...</td>\n",
       "    </tr>\n",
       "    <tr>\n",
       "      <th>695</th>\n",
       "      <td>58.0</td>\n",
       "      <td>58.595006</td>\n",
       "    </tr>\n",
       "    <tr>\n",
       "      <th>696</th>\n",
       "      <td>93.0</td>\n",
       "      <td>NaN</td>\n",
       "    </tr>\n",
       "    <tr>\n",
       "      <th>697</th>\n",
       "      <td>82.0</td>\n",
       "      <td>88.603770</td>\n",
       "    </tr>\n",
       "    <tr>\n",
       "      <th>698</th>\n",
       "      <td>66.0</td>\n",
       "      <td>63.648685</td>\n",
       "    </tr>\n",
       "    <tr>\n",
       "      <th>699</th>\n",
       "      <td>97.0</td>\n",
       "      <td>94.975266</td>\n",
       "    </tr>\n",
       "  </tbody>\n",
       "</table>\n",
       "<p>700 rows × 2 columns</p>\n",
       "</div>"
      ],
      "text/plain": [
       "        x          y\n",
       "0    24.0  21.549452\n",
       "1    50.0  47.464463\n",
       "2    15.0  17.218656\n",
       "3    38.0  36.586398\n",
       "4    87.0  87.288984\n",
       "..    ...        ...\n",
       "695  58.0  58.595006\n",
       "696  93.0        NaN\n",
       "697  82.0  88.603770\n",
       "698  66.0  63.648685\n",
       "699  97.0  94.975266\n",
       "\n",
       "[700 rows x 2 columns]"
      ]
     },
     "execution_count": 53,
     "metadata": {},
     "output_type": "execute_result"
    }
   ],
   "source": [
    "import pandas as pd\n",
    "import numpy as np\n",
    "\n",
    "df = pd.read_csv('C:/Users/User/Downloads/data_for_LR.csv')\n",
    "d = df.to_numpy()\n",
    "d\n",
    "df.isnull().sum()\n",
    "df"
   ]
  },
  {
   "cell_type": "markdown",
   "metadata": {
    "id": "rvk4Xim3-CwP"
   },
   "source": [
    "# **Data Preprocessing**"
   ]
  },
  {
   "cell_type": "markdown",
   "metadata": {
    "id": "n2Llx-dS7h0G"
   },
   "source": [
    "# **Handling Missing Values:**"
   ]
  },
  {
   "cell_type": "code",
   "execution_count": 47,
   "metadata": {
    "id": "aL9_O9jDr4Gw"
   },
   "outputs": [
    {
     "data": {
      "text/plain": [
       "x    0\n",
       "y    0\n",
       "dtype: int64"
      ]
     },
     "execution_count": 47,
     "metadata": {},
     "output_type": "execute_result"
    }
   ],
   "source": [
    "def handle_missing_values(df):\n",
    "    df.fillna(df.mean(),inplace=True)\n",
    "df.mean()\n",
    "handle_missing_values(df)\n",
    "df.isnull().sum()"
   ]
  },
  {
   "cell_type": "markdown",
   "metadata": {
    "id": "8kfzinwA-8uo"
   },
   "source": [
    "# **Test case**\n",
    "x: [24, 50, 15, 38, None, 36, 12, 81, 25, None]\n",
    "\n",
    "y: [21.54945, 47.46446, 17.21866, 36.5864, 87.28898, None, 10.7809, 80.7634, 24.61215, None]\n",
    "\n"
   ]
  },
  {
   "cell_type": "code",
   "execution_count": 143,
   "metadata": {
    "id": "pwCxaVOR_CkT"
   },
   "outputs": [
    {
     "data": {
      "text/html": [
       "<div>\n",
       "<style scoped>\n",
       "    .dataframe tbody tr th:only-of-type {\n",
       "        vertical-align: middle;\n",
       "    }\n",
       "\n",
       "    .dataframe tbody tr th {\n",
       "        vertical-align: top;\n",
       "    }\n",
       "\n",
       "    .dataframe thead th {\n",
       "        text-align: right;\n",
       "    }\n",
       "</style>\n",
       "<table border=\"1\" class=\"dataframe\">\n",
       "  <thead>\n",
       "    <tr style=\"text-align: right;\">\n",
       "      <th></th>\n",
       "      <th>0</th>\n",
       "    </tr>\n",
       "  </thead>\n",
       "  <tbody>\n",
       "    <tr>\n",
       "      <th>0</th>\n",
       "      <td>21.54945</td>\n",
       "    </tr>\n",
       "    <tr>\n",
       "      <th>1</th>\n",
       "      <td>47.46446</td>\n",
       "    </tr>\n",
       "    <tr>\n",
       "      <th>2</th>\n",
       "      <td>17.21866</td>\n",
       "    </tr>\n",
       "    <tr>\n",
       "      <th>3</th>\n",
       "      <td>36.58640</td>\n",
       "    </tr>\n",
       "    <tr>\n",
       "      <th>4</th>\n",
       "      <td>87.28898</td>\n",
       "    </tr>\n",
       "    <tr>\n",
       "      <th>5</th>\n",
       "      <td>40.78305</td>\n",
       "    </tr>\n",
       "    <tr>\n",
       "      <th>6</th>\n",
       "      <td>10.78090</td>\n",
       "    </tr>\n",
       "    <tr>\n",
       "      <th>7</th>\n",
       "      <td>80.76340</td>\n",
       "    </tr>\n",
       "    <tr>\n",
       "      <th>8</th>\n",
       "      <td>24.61215</td>\n",
       "    </tr>\n",
       "    <tr>\n",
       "      <th>9</th>\n",
       "      <td>40.78305</td>\n",
       "    </tr>\n",
       "  </tbody>\n",
       "</table>\n",
       "</div>"
      ],
      "text/plain": [
       "          0\n",
       "0  21.54945\n",
       "1  47.46446\n",
       "2  17.21866\n",
       "3  36.58640\n",
       "4  87.28898\n",
       "5  40.78305\n",
       "6  10.78090\n",
       "7  80.76340\n",
       "8  24.61215\n",
       "9  40.78305"
      ]
     },
     "execution_count": 143,
     "metadata": {},
     "output_type": "execute_result"
    }
   ],
   "source": [
    "x= [24, 50, 15, 38, None, 36, 12, 81, 25, None]\n",
    "\n",
    "y= pd.DataFrame([21.54945, 47.46446, 17.21866, 36.5864, 87.28898, None, 10.7809, 80.7634, 24.61215, None])\n",
    "handle_missing_values(y)\n",
    "y"
   ]
  },
  {
   "cell_type": "markdown",
   "metadata": {
    "id": "QOzaNpFZ_omO"
   },
   "source": [
    "# **Removing Duplicates:**"
   ]
  },
  {
   "cell_type": "code",
   "execution_count": 5,
   "metadata": {
    "id": "TCeoXXt9_suE"
   },
   "outputs": [],
   "source": [
    "def remove_duplicates(df):\n",
    "    return df.drop_duplicates()"
   ]
  },
  {
   "cell_type": "markdown",
   "metadata": {
    "id": "PI5rmKY3_v_X"
   },
   "source": [
    "# **Test Case**\n",
    "x: [24, 24, 15, 38, 87, 36, 12, 12, 25, 5]\n",
    "\n",
    "y: [21.54945, 21.54945, 17.21866, 36.5864, 87.28898, 32.46387, 10.7809, 10.7809, 24.61215, 6.963319]\n"
   ]
  },
  {
   "cell_type": "code",
   "execution_count": 82,
   "metadata": {
    "id": "fi1w7dr5_0n5"
   },
   "outputs": [
    {
     "ename": "NameError",
     "evalue": "name 'test_data' is not defined",
     "output_type": "error",
     "traceback": [
      "\u001b[1;31m---------------------------------------------------------------------------\u001b[0m",
      "\u001b[1;31mNameError\u001b[0m                                 Traceback (most recent call last)",
      "Cell \u001b[1;32mIn[82], line 1\u001b[0m\n\u001b[1;32m----> 1\u001b[0m cleaned_data_duplicates \u001b[38;5;241m=\u001b[39m remove_duplicates(test_data)\n",
      "\u001b[1;31mNameError\u001b[0m: name 'test_data' is not defined"
     ]
    }
   ],
   "source": [
    "cleaned_data_duplicates = remove_duplicates(test_data)"
   ]
  },
  {
   "cell_type": "markdown",
   "metadata": {
    "id": "ZnQfpnVCAJ2z"
   },
   "source": [
    "# **Handle Outliers**\n"
   ]
  },
  {
   "cell_type": "code",
   "execution_count": 7,
   "metadata": {
    "id": "_QwZcM8QANbQ"
   },
   "outputs": [],
   "source": [
    "def handle_outliers(df, column):\n",
    "    Q1 = np.percentile(df[column], 25)\n",
    "    Q3 = np.percentile(df[column], 75)\n",
    "    IQR = Q3 - Q1\n",
    "    lower_bound = Q1 - 1.5 * IQR\n",
    "    upper_bound = Q3 + 1.5 * IQR\n",
    "    maxoutliers = df[df[column] > upper_bound].index\n",
    "    minoutliers = df[df[column] < lower_bound].index\n",
    "    df.loc[maxoutliers, column] = max(df[column])\n",
    "    df.loc[minoutliers, column] = min(df[column])\n",
    "    # print(f\"IQR: {IQR}\")\n",
    "    # print(f\"Lower bound: {lower_bound}, Upper bound: {upper_bound}\")\n",
    "    # print(f\"Number of upper outliers: {len(maxoutliers), df['x'][maxoutliers[0]]} \")\n",
    "    # print(f\"Number of lower outliers: {len(minoutliers)}\")\n",
    "    \n",
    "    return df\n"
   ]
  },
  {
   "cell_type": "markdown",
   "metadata": {
    "id": "rKabLq6-AOQS"
   },
   "source": [
    "# **Test Case**\n",
    "x: [24, 50, 15, 38, 87, 36, 12, 81, 25, 5, 100, 150]\n",
    "\n",
    "y: [21.54945, 47.46446, 17.21866, 36.5864, 87.28898, 32.46387, 10.7809, 80.7634, 24.61215, 6.963319, 200, 300]\n",
    "})"
   ]
  },
  {
   "cell_type": "code",
   "execution_count": 90,
   "metadata": {
    "id": "Q8Vh-8_xARqz"
   },
   "outputs": [
    {
     "ename": "NameError",
     "evalue": "name 'test_data' is not defined",
     "output_type": "error",
     "traceback": [
      "\u001b[1;31m---------------------------------------------------------------------------\u001b[0m",
      "\u001b[1;31mNameError\u001b[0m                                 Traceback (most recent call last)",
      "Cell \u001b[1;32mIn[90], line 1\u001b[0m\n\u001b[1;32m----> 1\u001b[0m cleaned_data_outliers \u001b[38;5;241m=\u001b[39m handle_outliers(test_data, \u001b[38;5;124m'\u001b[39m\u001b[38;5;124my\u001b[39m\u001b[38;5;124m'\u001b[39m)\n",
      "\u001b[1;31mNameError\u001b[0m: name 'test_data' is not defined"
     ]
    }
   ],
   "source": [
    "cleaned_data_outliers = handle_outliers(test_data, 'y')"
   ]
  },
  {
   "cell_type": "markdown",
   "metadata": {
    "id": "0ovXdUruA2nj"
   },
   "source": [
    "# **Standardizing the Data**"
   ]
  },
  {
   "cell_type": "code",
   "execution_count": 9,
   "metadata": {
    "id": "rKw_DEvlA4XO"
   },
   "outputs": [],
   "source": [
    "def standardize_data(df, columns):\n",
    "    x = df[columns]\n",
    "    y = (x - np.mean(x))/ np.std(x)\n",
    "    df[columns] = y\n",
    "    return df\n"
   ]
  },
  {
   "cell_type": "markdown",
   "metadata": {
    "id": "6UnKdFKQBLe7"
   },
   "source": [
    "# **Test Case**\n",
    "x: [24, 50, 15, 38, 87, 36, 12, 81, 25, 5]\n",
    "\n",
    "y: [21.5, 47.4, 17.2, 36.5, 87.2, 32.4, 10.7, 80.7, 24.6, 6.9]\n"
   ]
  },
  {
   "cell_type": "code",
   "execution_count": null,
   "metadata": {
    "id": "gE-kv-khBKkX"
   },
   "outputs": [],
   "source": []
  },
  {
   "cell_type": "code",
   "execution_count": 49,
   "metadata": {},
   "outputs": [
    {
     "name": "stdout",
     "output_type": "stream",
     "text": [
      "        x          y\n",
      "0    24.0  21.549452\n",
      "1    50.0  47.464463\n",
      "2    15.0  17.218656\n",
      "3    38.0  36.586398\n",
      "4    87.0  87.288984\n",
      "..    ...        ...\n",
      "695  58.0  58.595006\n",
      "696  93.0  49.946273\n",
      "697  82.0  88.603770\n",
      "698  66.0  63.648685\n",
      "699  97.0  94.975266\n",
      "\n",
      "[700 rows x 2 columns]\n",
      "        x          y\n",
      "0    24.0  21.549452\n",
      "1    50.0  47.464463\n",
      "2    15.0  17.218656\n",
      "3    38.0  36.586398\n",
      "4    87.0  87.288984\n",
      "..    ...        ...\n",
      "695  58.0  58.595006\n",
      "696  93.0  49.946273\n",
      "697  82.0  88.603770\n",
      "698  66.0  63.648685\n",
      "699  97.0  94.975266\n",
      "\n",
      "[699 rows x 2 columns]\n",
      "        x          y\n",
      "0    24.0  21.549452\n",
      "1    50.0  47.464463\n",
      "2    15.0  17.218656\n",
      "3    38.0  36.586398\n",
      "4    87.0  87.288984\n",
      "..    ...        ...\n",
      "695  58.0  58.595006\n",
      "696  93.0  49.946273\n",
      "697  82.0  88.603770\n",
      "698  66.0  63.648685\n",
      "699  97.0  94.975266\n",
      "\n",
      "[699 rows x 2 columns]\n",
      "            x          y\n",
      "0   -0.229364  21.549452\n",
      "1   -0.036299  47.464463\n",
      "2   -0.296194  17.218656\n",
      "3   -0.125406  36.586398\n",
      "4    0.238448  87.288984\n",
      "..        ...        ...\n",
      "695  0.023106  58.595006\n",
      "696  0.283001  49.946273\n",
      "697  0.201320  88.603770\n",
      "698  0.082510  63.648685\n",
      "699  0.312704  94.975266\n",
      "\n",
      "[699 rows x 2 columns]\n"
     ]
    },
    {
     "data": {
      "text/plain": [
       "array([[-2.29364017e-01,  2.15494520e+01],\n",
       "       [-3.62988556e-02,  4.74644630e+01],\n",
       "       [-2.96194265e-01,  1.72186563e+01],\n",
       "       ...,\n",
       "       [ 2.01319805e-01,  8.86037700e+01],\n",
       "       [ 8.25104745e-02,  6.36486853e+01],\n",
       "       [ 3.12703552e-01,  9.49752655e+01]])"
      ]
     },
     "execution_count": 49,
     "metadata": {},
     "output_type": "execute_result"
    }
   ],
   "source": [
    "handle_missing_values(df)\n",
    "print(df)\n",
    "df = remove_duplicates(df)\n",
    "print(df)\n",
    "df = handle_outliers(df, 'x')\n",
    "print(df)\n",
    "\n",
    "df = standardize_data(df, 'x') \n",
    "print(df)\n",
    "\n",
    "df = handle_outliers(df, 'y')\n",
    "df = standardize_data(df, 'y') \n",
    "data = df.to_numpy()\n",
    "data"
   ]
  },
  {
   "cell_type": "markdown",
   "metadata": {
    "id": "rV9hN8olBoPj"
   },
   "source": [
    "# **Visualize the Data**"
   ]
  },
  {
   "cell_type": "code",
   "execution_count": 99,
   "metadata": {},
   "outputs": [
    {
     "data": {
      "image/png": "[encoded data removed]",
      "text/plain": [
       "<Figure size 640x480 with 1 Axes>"
      ]
     },
     "metadata": {},
     "output_type": "display_data"
    },
    {
     "data": {
      "text/plain": [
       "array([[24.        , 21.54945196],\n",
       "       [50.        , 47.46446305],\n",
       "       [15.        , 17.21865634],\n",
       "       ...,\n",
       "       [82.        , 88.60376995],\n",
       "       [66.        , 63.64868529],\n",
       "       [97.        , 94.9752655 ]])"
      ]
     },
     "execution_count": 99,
     "metadata": {},
     "output_type": "execute_result"
    }
   ],
   "source": [
    "# OUTLIER SHOWED BOXPLOT\n",
    "plt.boxplot(d)\n",
    "plt.show()\n",
    "d"
   ]
  },
  {
   "cell_type": "code",
   "execution_count": 51,
   "metadata": {
    "id": "-K9DttuFB11J"
   },
   "outputs": [
    {
     "data": {
      "image/png": "[encoded data removed]",
      "text/plain": [
       "<Figure size 640x480 with 1 Axes>"
      ]
     },
     "metadata": {},
     "output_type": "display_data"
    }
   ],
   "source": [
    "import matplotlib.pyplot as plt\n",
    "plt.scatter(data[:,0], data[:,1])\n",
    "plt.show()"
   ]
  },
  {
   "cell_type": "markdown",
   "metadata": {
    "id": "2b4_hY2q-UBZ"
   },
   "source": [
    "# **Split The Data**\n",
    "Split the data into an 80-20 train-test split."
   ]
  },
  {
   "cell_type": "code",
   "execution_count": 174,
   "metadata": {
    "id": "kRfkbQ3D0mP0"
   },
   "outputs": [],
   "source": [
    "import random\n",
    "def split_data(data):\n",
    "    np.random.shuffle(data)\n",
    "    train = int(len(data) * 0.8)\n",
    "    x = data[:,0]\n",
    "    y = data[:,-1]\n",
    "    return( x[:train], y[0:train], x[train:], y[train:])\n",
    "\n",
    "Xtrain, Ytrain, Xtest, Ytest = split_data(data)\n",
    "# len(Xtrain)"
   ]
  },
  {
   "cell_type": "markdown",
   "metadata": {
    "id": "OzAV3tRSCGye"
   },
   "source": [
    "# **Plot the train and test data**"
   ]
  },
  {
   "cell_type": "code",
   "execution_count": 177,
   "metadata": {
    "id": "H2uiZwFcCL4R"
   },
   "outputs": [
    {
     "data": {
      "image/png": "[encoded data removed]",
      "text/plain": [
       "<Figure size 640x480 with 1 Axes>"
      ]
     },
     "metadata": {},
     "output_type": "display_data"
    }
   ],
   "source": [
    "import matplotlib.pyplot as plt\n",
    "plt.title(\"TRAIN\")\n",
    "plt.scatter(Xtrain, Ytrain)\n",
    "plt.show()"
   ]
  },
  {
   "cell_type": "code",
   "execution_count": 179,
   "metadata": {},
   "outputs": [
    {
     "data": {
      "image/png": "[encoded data removed]",
      "text/plain": [
       "<Figure size 640x480 with 1 Axes>"
      ]
     },
     "metadata": {},
     "output_type": "display_data"
    }
   ],
   "source": [
    "import matplotlib.pyplot as plt\n",
    "plt.title(\"TEST\")\n",
    "plt.scatter(Xtest, Ytest)\n",
    "plt.show()"
   ]
  },
  {
   "cell_type": "markdown",
   "metadata": {
    "id": "269kLRNM_F45"
   },
   "source": [
    "# **Initialize Weights**"
   ]
  },
  {
   "cell_type": "code",
   "execution_count": 181,
   "metadata": {
    "colab": {
     "base_uri": "https://localhost:8080/"
    },
    "id": "ReB6wnDF_SkL",
    "outputId": "1559aba1-c1ae-448e-91d0-409faffa25b2"
   },
   "outputs": [],
   "source": [
    "def initialize_weights(X):\n",
    "    X = np.hstack((X.reshape(-1,1), np.ones((X.shape[0],1))))\n",
    "    # print(X.shape, np.ones((X.shape[0], 1)).shape)\n",
    "    thetas = np.ones((X.shape[1]))\n",
    "    # result = np.dot(X, thetas.reshape(-1,1))\n",
    "    # print(result)\n",
    "    return X, thetas\n",
    "                    \n",
    "\n",
    "\n",
    "# Xtrain, theta = initialize_weights(Xtrain)"
   ]
  },
  {
   "cell_type": "markdown",
   "metadata": {
    "id": "x8zoUKRs_Mnc"
   },
   "source": [
    "# **Mean Squared Error (MSE) Cost Function**"
   ]
  },
  {
   "cell_type": "code",
   "execution_count": 184,
   "metadata": {
    "id": "2eqMBde5_dGG"
   },
   "outputs": [],
   "source": [
    "def mean_squared_error(y_true, y_pred):\n",
    "    return np.mean(np.square(y_true - y_pred))\n"
   ]
  },
  {
   "cell_type": "markdown",
   "metadata": {
    "id": "VOrsCZYijx7y"
   },
   "source": [
    "# **Test case:**\n",
    "y_true = np.array([3, -0.5, 2, 7])\n",
    "\n",
    "y_pred = np.array([2.5, 0.0, 2, 8])\n",
    "\n",
    "MSE: 0.3755"
   ]
  },
  {
   "cell_type": "code",
   "execution_count": 187,
   "metadata": {
    "colab": {
     "base_uri": "https://localhost:8080/"
    },
    "id": "Lr70dpiaj5yf",
    "outputId": "e2d9df10-7063-4304-fee8-fe837b9d8128"
   },
   "outputs": [
    {
     "data": {
      "text/plain": [
       "0.375"
      ]
     },
     "execution_count": 187,
     "metadata": {},
     "output_type": "execute_result"
    }
   ],
   "source": [
    "y_true = np.array([3, -0.5, 2, 7])\n",
    "y_pred = np.array([2.5, 0.0, 2, 8])\n",
    "mean_squared_error(y_true, y_pred)"
   ]
  },
  {
   "cell_type": "markdown",
   "metadata": {
    "id": "j02gKvip_hSn"
   },
   "source": [
    "# **Gradient Descent**"
   ]
  },
  {
   "cell_type": "code",
   "execution_count": 190,
   "metadata": {
    "id": "-6Ud082W_uui"
   },
   "outputs": [],
   "source": [
    "def gradient_descent(X, y, theta, learning_rate, iterations):\n",
    "    dt = derivative_of_cost(X, y, theta)\n",
    "    gd = theta - (learning_rate * dt)\n",
    "    return gd\n"
   ]
  },
  {
   "cell_type": "code",
   "execution_count": 192,
   "metadata": {},
   "outputs": [],
   "source": [
    "def hypothesis(X, thetas):\n",
    "    # X = np.hstack((X.reshape(-1,1), np.ones((X.shape[0],1))))\n",
    "    # print(X.shape, np.ones((X.shape[0], 1)).shape)\n",
    "    result = np.dot(X, thetas)\n",
    "    # print(len(result))\n",
    "    return result\n",
    "                    \n",
    "def derivative_of_cost(X, y, theta):\n",
    "    yprd = hypothesis(X, theta)\n",
    "    # f1 = np.dot((y-yprd).reshape(-1,1) , X)\n",
    "    # f2 = f1 / float(X.shape[0])\n",
    "    error = yprd - y\n",
    "    grads = (2 / X.shape[0]) * np.dot(X.T, error)\n",
    "    # print(len(grads))\n",
    "    return grads"
   ]
  },
  {
   "cell_type": "markdown",
   "metadata": {
    "id": "2bQ6tCD-_vGZ"
   },
   "source": [
    "# **Training the Model**"
   ]
  },
  {
   "cell_type": "code",
   "execution_count": 202,
   "metadata": {
    "colab": {
     "base_uri": "https://localhost:8080/"
    },
    "id": "JHZN_AfC_1B7",
    "outputId": "4fa5b5de-7ee0-41a4-b80c-502ae185f0d9"
   },
   "outputs": [
    {
     "name": "stdout",
     "output_type": "stream",
     "text": [
      "Weights initialized successfully.\n",
      "Loss 0:  3152.640156506563\n",
      "Loss 100:  765.3503231860109\n",
      "Loss 200:  605.4271427347758\n",
      "Loss 300:  504.71962964529325\n",
      "Loss 400:  421.84434187104074\n",
      "Loss 500:  353.1962228829215\n",
      "Loss 600:  296.32502387309165\n",
      "Loss 700:  249.2102190028296\n",
      "Loss 800:  210.17807244114655\n",
      "Loss 900:  177.8419846362386\n"
     ]
    },
    {
     "data": {
      "text/plain": [
       "array([81.05613119, 52.88685682])"
      ]
     },
     "execution_count": 202,
     "metadata": {},
     "output_type": "execute_result"
    }
   ],
   "source": [
    "def train_model(X, y, learning_rate=0.01, iterations=1000):\n",
    "    X, theta = initialize_weights(X)\n",
    "    print('Weights initialized successfully.')\n",
    "    for i in range(iterations):\n",
    "        theta = gradient_descent(X, y,theta, learning_rate, iterations)\n",
    "        \n",
    "        if i%100 == 0:\n",
    "            print(f'Loss {i}: ', mean_squared_error(y, hypothesis(X, theta)))\n",
    "    return theta\n",
    "        \n",
    "theta = train_model(Xtrain, Ytrain, learning_rate=0.01, iterations=1000)\n",
    "theta"
   ]
  },
  {
   "cell_type": "markdown",
   "metadata": {
    "id": "Ydtz2zeV_1Ry"
   },
   "source": [
    "# **Prediction and Evaluation of Model**"
   ]
  },
  {
   "cell_type": "code",
   "execution_count": 200,
   "metadata": {
    "id": "-1iAMlEg__v4"
   },
   "outputs": [
    {
     "name": "stdout",
     "output_type": "stream",
     "text": [
      "(140,) (140, 1)\n"
     ]
    },
    {
     "data": {
      "text/plain": [
       "32352.805531955113"
      ]
     },
     "execution_count": 200,
     "metadata": {},
     "output_type": "execute_result"
    }
   ],
   "source": [
    "def predict(X, theta):\n",
    "    if np.isscalar(X):\n",
    "        X = np.array([[X]])  \n",
    "    elif X.ndim == 1:\n",
    "        X = X.reshape(1, -1) \n",
    "    \n",
    "    X = np.hstack((X, np.ones((X.shape[0], 1)))) \n",
    "\n",
    "    predictions = np.dot(X, theta)\n",
    "    return predictions\n",
    "\n",
    "ypred = []\n",
    "for i in Xtest:\n",
    "    # print(theta)\n",
    "    ypred.append( predict(i, theta))\n",
    "# print(len(Ytest), len(pred))\n",
    "print(Ytest.shape, np.array(ypred).shape)\n",
    "mean_squared_error(Ytest, ypred)\n",
    "    "
   ]
  },
  {
   "cell_type": "markdown",
   "metadata": {
    "id": "Jt1RJ5v9Cgz_"
   },
   "source": [
    "# **Learning rate experiments**\n",
    " lr_values = [1.0, 0.5, 0.2, 0.25, 0.1]"
   ]
  },
  {
   "cell_type": "code",
   "execution_count": 205,
   "metadata": {
    "colab": {
     "base_uri": "https://localhost:8080/"
    },
    "id": "nAueqMe6DDjy",
    "outputId": "477c0fb6-a5b2-4f3e-b094-a027849e685d"
   },
   "outputs": [
    {
     "name": "stdout",
     "output_type": "stream",
     "text": [
      "Learnind rate:  1.0\n",
      "Weights initialized successfully.\n",
      "Loss 0:  3109.868160825671\n",
      "Loss 100:  4320.583234523171\n",
      "Loss 200:  7755.271087206824\n",
      "Loss 300:  13934.170519355424\n",
      "Loss 400:  25049.823472311942\n",
      "Loss 500:  45046.54650161238\n",
      "Loss 600:  81020.0456386255\n",
      "Loss 700:  145735.28114320047\n",
      "Loss 800:  262156.0299411085\n",
      "Loss 900:  471593.4312731097\n",
      "Learnind rate:  0.5\n",
      "Weights initialized successfully.\n",
      "Loss 0:  794.635604004419\n",
      "Loss 100:  21.73765620429765\n",
      "Loss 200:  21.68705970240868\n",
      "Loss 300:  21.687056390169307\n",
      "Loss 400:  21.68705638995248\n",
      "Loss 500:  21.68705638995246\n",
      "Loss 600:  21.687056389952463\n",
      "Loss 700:  21.687056389952463\n",
      "Loss 800:  21.687056389952463\n",
      "Loss 900:  21.687056389952463\n",
      "Learnind rate:  0.2\n",
      "Weights initialized successfully.\n",
      "Loss 0:  1694.6401432261866\n",
      "Loss 100:  40.05238694893218\n",
      "Loss 200:  22.098684240442207\n",
      "Loss 300:  21.696282332646753\n",
      "Loss 400:  21.68726317386783\n",
      "Loss 500:  21.687061024664505\n",
      "Loss 600:  21.6870564938317\n",
      "Loss 700:  21.68705639228074\n",
      "Loss 800:  21.68705639000465\n",
      "Loss 900:  21.687056389953636\n",
      "Learnind rate:  0.25\n",
      "Weights initialized successfully.\n",
      "Loss 0:  1425.413132870761\n",
      "Loss 100:  28.64547757649173\n",
      "Loss 200:  21.746718941971803\n",
      "Loss 300:  21.687567945665755\n",
      "Loss 400:  21.68706077610825\n",
      "Loss 500:  21.687056427560027\n",
      "Loss 600:  21.68705639027492\n",
      "Loss 700:  21.687056389955227\n",
      "Loss 800:  21.687056389952488\n",
      "Loss 900:  21.687056389952467\n",
      "Learnind rate:  0.1\n",
      "Weights initialized successfully.\n",
      "Loss 0:  2376.165668519196\n",
      "Loss 100:  147.85467477098592\n",
      "Loss 200:  40.746772903247525\n",
      "Loss 300:  24.56634347033526\n",
      "Loss 400:  22.12202057661686\n",
      "Loss 500:  21.75276496238681\n",
      "Loss 600:  21.696982762338358\n",
      "Loss 700:  21.68855593354462\n",
      "Loss 800:  21.68728292094459\n",
      "Loss 900:  21.687090611225297\n"
     ]
    },
    {
     "data": {
      "text/plain": [
       "[array([ 169.52999003, -862.02656052]),\n",
       " array([133.51327993,  54.94725806]),\n",
       " array([133.51327917,  54.94725803]),\n",
       " array([133.51327992,  54.94725806]),\n",
       " array([133.50270391,  54.94684265])]"
      ]
     },
     "execution_count": 205,
     "metadata": {},
     "output_type": "execute_result"
    }
   ],
   "source": [
    "lr_values  = [1.0, 0.5, 0.2, 0.25, 0.1]\n",
    "thetas = []\n",
    "for lr in lr_values:\n",
    "    print(\"Learnind rate: \", lr)\n",
    "    theta = train_model(Xtrain, Ytrain, learning_rate=lr, iterations=1000)\n",
    "    thetas.append(theta)\n",
    "\n",
    "thetas\n",
    "    "
   ]
  },
  {
   "cell_type": "markdown",
   "metadata": {
    "id": "HVu9FxPOAlaC"
   },
   "source": [
    "# **Plot the Best Fit Line**"
   ]
  },
  {
   "cell_type": "code",
   "execution_count": 210,
   "metadata": {},
   "outputs": [
    {
     "name": "stdout",
     "output_type": "stream",
     "text": [
      "(2,) (559,)\n"
     ]
    },
    {
     "data": {
      "image/png": "[encoded data removed]",
      "text/plain": [
       "<Figure size 640x480 with 1 Axes>"
      ]
     },
     "metadata": {},
     "output_type": "display_data"
    }
   ],
   "source": [
    "import matplotlib.pyplot as plt\n",
    "import numpy as np\n",
    "\n",
    "def plot_best_fit_line(X, Y, theta):\n",
    "    if X.ndim > 1:\n",
    "        X = X.flatten()\n",
    "    \n",
    "    X_sorted = np.sort(X) \n",
    "    print(theta.shape, X_sorted.shape)\n",
    "    Y_pred = []\n",
    "    for x in X_sorted:\n",
    "        Y_pred.append(predict(x, theta))\n",
    "    \n",
    "    plt.scatter(X, Y, color='blue', label='Data Points', alpha=0.6)\n",
    "    \n",
    "    plt.plot(X_sorted, Y_pred, color='red', label='Best Fit Line', linewidth=2)\n",
    "    \n",
    "    plt.xlabel(\"X (Feature)\")\n",
    "    plt.ylabel(\"Y (Target)\")\n",
    "    plt.title(\"Best Fit Line\")\n",
    "    plt.legend()\n",
    "    plt.show()\n",
    "\n",
    "\n",
    "df = pd.read_csv('C:/Users/User/Downloads/data_for_LR.csv')\n",
    "d = df.to_numpy()\n",
    "\n",
    "# plot_best_fit_line(data[:,0], data[:,1], theta)\n",
    "\n",
    "plot_best_fit_line(Xtrain, Ytrain, theta)\n",
    "\n",
    "# plot_best_fit_line(Xtest, Ytest, theta)\n"
   ]
  },
  {
   "cell_type": "code",
   "execution_count": null,
   "metadata": {
    "colab": {
     "base_uri": "https://localhost:8080/",
     "height": 472
    },
    "id": "zYZcZG_qxzrv",
    "outputId": "49d18a2f-a227-4150-9a50-74b0e40445a1"
   },
   "outputs": [],
   "source": []
  },
  {
   "cell_type": "markdown",
   "metadata": {
    "id": "xMwHtTYIljbO"
   },
   "source": [
    "# **Test case:**"
   ]
  },
  {
   "cell_type": "code",
   "execution_count": 252,
   "metadata": {
    "colab": {
     "base_uri": "https://localhost:8080/"
    },
    "id": "qF4Ffu2RBBVG",
    "outputId": "81b04a75-749c-4fb4-ca8d-4831c9e89cc2"
   },
   "outputs": [
    {
     "name": "stdout",
     "output_type": "stream",
     "text": [
      "loss:  84606.52598764215\n",
      "(2,) (5,)\n"
     ]
    },
    {
     "data": {
      "image/png": "[encoded data removed]",
      "text/plain": [
       "<Figure size 640x480 with 1 Axes>"
      ]
     },
     "metadata": {},
     "output_type": "display_data"
    }
   ],
   "source": [
    "def test_best_fit_line():\n",
    "    data = {\n",
    "            'X': [1, 2, 3, 4, 5],\n",
    "            'y': [1.5, 3.1, 4.5, 6.2, 8.1],\n",
    "            'ypred': [1.7, 3.2, 4.7, 6.2, 7.7]\n",
    "        }\n",
    "        \n",
    "    t = pd.DataFrame(data)\n",
    "    for i in [1, 2, 3, 4, 5]:\n",
    "        pred = np.dot(i, theta)\n",
    "        ypred.append(predict(i, theta))\n",
    "    print(\"loss: \",mean_squared_error(np.array([1.5, 3.1, 4.5, 6.2, 8.1]), ypred))\n",
    "test_best_fit_line()\n",
    "a = np.array([1, 2, 3, 4, 5])\n",
    "b = np.array([1.5, 3.1, 4.5, 6.2, 8.1])\n",
    "plot_best_fit_line(a, b, theta)"
   ]
  },
  {
   "cell_type": "code",
   "execution_count": null,
   "metadata": {},
   "outputs": [],
   "source": []
  },
  {
   "cell_type": "code",
   "execution_count": null,
   "metadata": {},
   "outputs": [],
   "source": []
  }
 ],
 "metadata": {
  "colab": {
   "provenance": []
  },
  "kernelspec": {
   "display_name": "Python 3 (ipykernel)",
   "language": "python",
   "name": "python3"
  },
  "language_info": {
   "codemirror_mode": {
    "name": "ipython",
    "version": 3
   },
   "file_extension": ".py",
   "mimetype": "text/x-python",
   "name": "python",
   "nbconvert_exporter": "python",
   "pygments_lexer": "ipython3",
   "version": "3.12.4"
  }
 },
 "nbformat": 4,
 "nbformat_minor": 4
}
